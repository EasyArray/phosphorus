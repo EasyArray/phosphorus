{
 "cells": [
  {
   "cell_type": "code",
   "execution_count": 1,
   "id": "0031a216",
   "metadata": {},
   "outputs": [
    {
     "name": "stdout",
     "output_type": "stream",
     "text": [
      "\n",
      "             _    _                  _    _\n",
      "            | |  | |                | |  | |\n",
      "           _| |_ | |__   ___  ___  _| |_ | |__   ___  _ __ _   _  ____\n",
      "          /     \\| '_ \\ / _ \\/ __|/     \\| '_ \\ / _ \\| '__| | | |/ ___)\n",
      "         ( (| |) ) | | | (_) \\__ ( (| |) ) | | | (_) | |  | |_| ( (__\n",
      "          \\_   _/|_| |_|\\___/|___/\\_   _/|_| |_|\\___/|_|   \\__,_|\\__ \\\n",
      "            | |                     | |                            _) )\n",
      "            |_|                     |_|                           (__/\n",
      "\n",
      "        Welcome to the Phosphorus Meaning Engine v2\n",
      "        Created by Ezra Keshet (EzraKeshet.com)\n",
      "\n",
      "    \n"
     ]
    }
   ],
   "source": [
    "import phosphorus\n",
    "%load_ext phosphorus"
   ]
  },
  {
   "cell_type": "code",
   "execution_count": 2,
   "id": "9a7bbb2e",
   "metadata": {},
   "outputs": [],
   "source": [
    "def testPrint(f, x, val):\n",
    "    y = f(x)\n",
    "    if y == val:\n",
    "        print(f\"SUCCESS {y} is {f} applied to {x} should be {val}\")\n",
    "    else:\n",
    "        print(f\"FAILURE {y} is {f} applied to {x} should be {val}\")"
   ]
  },
  {
   "cell_type": "code",
   "execution_count": 3,
   "id": "a5a29ccb",
   "metadata": {},
   "outputs": [
    {
     "name": "stdout",
     "output_type": "stream",
     "text": [
      "SUCCESS 0 is {1, 2, 3} applied to 0 should be 0\n",
      "SUCCESS 1 is {1, 2, 3} applied to 1 should be 1\n",
      "SUCCESS 1 is {1, 2, 3} applied to 2 should be 1\n",
      "SUCCESS 1 is {1, 2, 3} applied to 3 should be 1\n",
      "SUCCESS 0 is {1, 2, 3} applied to 4 should be 0\n",
      "SUCCESS 0 is {1, 2, 3} applied to t should be 0\n",
      "SUCCESS 0 is {1, 2, 3} applied to ⟨1, 1⟩ should be 0\n",
      "SUCCESS 0 is {1, 2, 3} applied to ⟨1, 2, 3⟩ should be 0\n",
      "SUCCESS 0 is {1, 2, 3} applied to ⟨1⟩ should be 0\n"
     ]
    }
   ],
   "source": [
    "S1 = {1, 2, 3}\n",
    "testPrint(S1, 0, 0)\n",
    "testPrint(S1, 1, 1)\n",
    "testPrint(S1, 2, 1)\n",
    "testPrint(S1, 3, 1)\n",
    "testPrint(S1, 4, 0)\n",
    "testPrint(S1, 't', 0)\n",
    "testPrint(S1, (1,1), 0)\n",
    "testPrint(S1, (1, 2, 3), 0)\n",
    "testPrint(S1, (1,), 0)"
   ]
  },
  {
   "cell_type": "code",
   "execution_count": 4,
   "id": "85fef1da",
   "metadata": {},
   "outputs": [
    {
     "name": "stdout",
     "output_type": "stream",
     "text": [
      "SUCCESS 2 is {⟨1, 2⟩, ⟨2, 2⟩} applied to 1 should be 2\n",
      "SUCCESS 2 is {⟨1, 2⟩, ⟨2, 2⟩} applied to 2 should be 2\n",
      "SUCCESS 1 is {⟨1, 2⟩, ⟨2, 2⟩} applied to ⟨1, 2⟩ should be 1\n",
      "SUCCESS 0 is {⟨1, 2⟩, ⟨2, 2⟩} applied to ⟨2, 1⟩ should be 0\n"
     ]
    }
   ],
   "source": [
    "S2 = {⟨1, 2⟩, ⟨2, 2⟩}\n",
    "testPrint(S2, 1, 2)\n",
    "testPrint(S2, 2, 2)\n",
    "testPrint(S2, ⟨1, 2⟩, 1) # should be used as indicator function\n",
    "testPrint(S2, ⟨2, 1⟩, 0)"
   ]
  },
  {
   "cell_type": "code",
   "execution_count": 5,
   "id": "c13a22ec",
   "metadata": {},
   "outputs": [
    {
     "name": "stdout",
     "output_type": "stream",
     "text": [
      "SUCCESS {⟨2, 3⟩, ⟨1, 2⟩} is {⟨1, {⟨2, 3⟩, ⟨1, 2⟩}⟩, ⟨2, {⟨2, 4⟩, ⟨1, 3⟩}⟩} applied to 1 should be {⟨2, 3⟩, ⟨1, 2⟩}\n",
      "SUCCESS 1 is {⟨1, {⟨2, 3⟩, ⟨1, 2⟩}⟩, ⟨2, {⟨2, 4⟩, ⟨1, 3⟩}⟩} applied to ⟨1, {⟨2, 3⟩, ⟨1, 2⟩}⟩ should be 1\n",
      "SUCCESS 0 is {⟨1, {⟨2, 3⟩, ⟨1, 2⟩}⟩, ⟨2, {⟨2, 4⟩, ⟨1, 3⟩}⟩} applied to ⟨1, 2⟩ should be 0\n",
      "SUCCESS 2 is {⟨2, 3⟩, ⟨1, 2⟩} applied to 1 should be 2\n",
      "SUCCESS 3 is {⟨2, 3⟩, ⟨1, 2⟩} applied to 2 should be 3\n",
      "SUCCESS 1 is {⟨2, 3⟩, ⟨1, 2⟩} applied to ⟨1, 2⟩ should be 1\n",
      "SUCCESS 0 is {⟨2, 3⟩, ⟨1, 2⟩} applied to ⟨1, 3⟩ should be 0\n"
     ]
    }
   ],
   "source": [
    "S3 = {⟨1, {⟨1, 2⟩, ⟨2, 3⟩}⟩, ⟨2, {⟨1, 3⟩, ⟨2, 4⟩}⟩}\n",
    "testPrint(S3, 1, {⟨1, 2⟩, ⟨2, 3⟩})\n",
    "testPrint(S3, ⟨1, {⟨1, 2⟩, ⟨2, 3⟩}⟩, 1) # indicator function\n",
    "testPrint(S3, ⟨1, 2⟩, 0)\n",
    "\n",
    "# testing S3(1), which also represents a function\n",
    "testPrint(S3(1), 1, 2)\n",
    "testPrint(S3(1), 2, 3)\n",
    "testPrint(S3(1), ⟨1, 2⟩, 1) # indicator function of S3(1)\n",
    "testPrint(S3(1), ⟨1, 3⟩, 0)"
   ]
  },
  {
   "cell_type": "code",
   "execution_count": 6,
   "id": "a9ae3787",
   "metadata": {},
   "outputs": [
    {
     "name": "stdout",
     "output_type": "stream",
     "text": [
      "SUCCESS {1, 2, 3} is {⟨2, ⟨2, 4, 6⟩⟩, ⟨1, {1, 2, 3}⟩} applied to 1 should be {1, 2, 3}\n",
      "SUCCESS 1 is {⟨2, ⟨2, 4, 6⟩⟩, ⟨1, {1, 2, 3}⟩} applied to ⟨1, {1, 2, 3}⟩ should be 1\n",
      "SUCCESS 1 is {1, 2, 3} applied to 1 should be 1\n",
      "SUCCESS 1 is {1, 2, 3} applied to 2 should be 1\n",
      "SUCCESS 0 is {1, 2, 3} applied to 0 should be 0\n",
      "SUCCESS 0 is {1, 2, 3} applied to t should be 0\n",
      "SUCCESS 0 is {1, 2, 3} applied to ⟨1, 2, 3⟩ should be 0\n",
      "SUCCESS 0 is {1, 2, 3} applied to {1, 2, 3} should be 0\n"
     ]
    }
   ],
   "source": [
    "S4 = {⟨1, {1, 2, 3}⟩, ⟨2, ⟨2, 4, 6⟩⟩}\n",
    "testPrint(S4, 1, {1, 2, 3})\n",
    "testPrint(S4, ⟨1, {1, 2, 3}⟩, 1) # indicator function\n",
    "\n",
    "# testing S4(1), which is a set but not a function\n",
    "testPrint(S4(1), 1, 1)\n",
    "testPrint(S4(1), 2, 1)\n",
    "testPrint(S4(1), 0, 0)\n",
    "testPrint(S4(1), 't', 0)\n",
    "testPrint(S4(1), ⟨1, 2, 3⟩, 0)\n",
    "testPrint(S4(1), {1, 2, 3}, 0)"
   ]
  }
 ],
 "metadata": {
  "kernelspec": {
   "display_name": "Python 3.10.2 ('phosphorus')",
   "language": "python",
   "name": "python3102jvsc74a57bd0f28e042e057fdf628e5334e58a6fa02c0dd8d1712941cda1350e899502825190"
  },
  "language_info": {
   "codemirror_mode": {
    "name": "ipython",
    "version": 3
   },
   "file_extension": ".py",
   "mimetype": "text/x-python",
   "name": "python",
   "nbconvert_exporter": "python",
   "pygments_lexer": "ipython3",
   "version": "3.10.2"
  }
 },
 "nbformat": 4,
 "nbformat_minor": 5
}
